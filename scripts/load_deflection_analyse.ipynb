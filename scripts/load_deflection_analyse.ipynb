{
 "cells": [
  {
   "cell_type": "code",
   "execution_count": 6,
   "metadata": {
    "collapsed": true
   },
   "outputs": [],
   "source": [
    "#!/usr/bin/python\n",
    "import sys\n",
    "import math\n",
    "import glob\n",
    "import os\n",
    "\n",
    "import pandas as pd\n",
    "import numpy as np\n",
    "import matplotlib.pyplot as plt\n",
    "\n",
    "# Loading convenient environment\n",
    "# %pylab\n",
    "%matplotlib inline"
   ]
  },
  {
   "cell_type": "code",
   "execution_count": 7,
   "metadata": {},
   "outputs": [],
   "source": [
    "# Denomination of data folder\n",
    "iloc='/home/maxime/dirac_work/dealammps/muc_3pbt_small/'\n",
    "floc='macroscale_log/load_deflection.csv'"
   ]
  },
  {
   "cell_type": "code",
   "execution_count": 8,
   "metadata": {},
   "outputs": [
    {
     "data": {
      "text/plain": [
       "['attmpt1_ts1-9',\n",
       " 'attmpt2_ts10-10',\n",
       " 'attmpt3_ts11-12',\n",
       " 'attmpt4_ts13-19',\n",
       " 'nano_init']"
      ]
     },
     "execution_count": 8,
     "metadata": {},
     "output_type": "execute_result"
    }
   ],
   "source": [
    "lfiles=os.listdir(iloc)\n",
    "latmp"
   ]
  },
  {
   "cell_type": "code",
   "execution_count": 9,
   "metadata": {},
   "outputs": [],
   "source": [
    "lattmpt=[]\n",
    "for thing in latmp:\n",
    "    if (thing.startswith(\"att\")):\n",
    "        lattmpt.append(thing)"
   ]
  },
  {
   "cell_type": "code",
   "execution_count": 44,
   "metadata": {},
   "outputs": [
    {
     "name": "stdout",
     "output_type": "stream",
     "text": [
      "/home/maxime/dirac_work/dealammps/muc_3pbt_small/attmpt1_ts1-9/macroscale_log/load_deflection.csv\n",
      "/home/maxime/dirac_work/dealammps/muc_3pbt_small/attmpt2_ts10-10/macroscale_log/load_deflection.csv\n",
      "/home/maxime/dirac_work/dealammps/muc_3pbt_small/attmpt3_ts11-12/macroscale_log/load_deflection.csv\n",
      "/home/maxime/dirac_work/dealammps/muc_3pbt_small/attmpt4_ts13-19/macroscale_log/load_deflection.csv\n"
     ]
    }
   ],
   "source": [
    "dtf=pd.DataFrame()\n",
    "fpdisp = 0.0\n",
    "for thing in lattmpt:\n",
    "    tloc=iloc+thing+\"/\"+floc\n",
    "    print(tloc)\n",
    "    df=pd.read_csv(tloc)\n",
    "    df['imposed_displacement'] += fpdisp\n",
    "    fpdisp=df['imposed_displacement'][-1:].values\n",
    "#     df['imposed_displacement'] *= -1.0\n",
    "    dtf=dtf.append(df)"
   ]
  },
  {
   "cell_type": "code",
   "execution_count": 49,
   "metadata": {},
   "outputs": [
    {
     "data": {
      "text/html": [
       "<div>\n",
       "<style>\n",
       "    .dataframe thead tr:only-child th {\n",
       "        text-align: right;\n",
       "    }\n",
       "\n",
       "    .dataframe thead th {\n",
       "        text-align: left;\n",
       "    }\n",
       "\n",
       "    .dataframe tbody tr th {\n",
       "        vertical-align: top;\n",
       "    }\n",
       "</style>\n",
       "<table border=\"1\" class=\"dataframe\">\n",
       "  <thead>\n",
       "    <tr style=\"text-align: right;\">\n",
       "      <th></th>\n",
       "      <th>timestep</th>\n",
       "      <th>time</th>\n",
       "      <th>imposed_displacement</th>\n",
       "      <th>applied_force</th>\n",
       "    </tr>\n",
       "  </thead>\n",
       "  <tbody>\n",
       "    <tr>\n",
       "      <th>0</th>\n",
       "      <td>1</td>\n",
       "      <td>1</td>\n",
       "      <td>-0.00015</td>\n",
       "      <td>-1.624412</td>\n",
       "    </tr>\n",
       "    <tr>\n",
       "      <th>1</th>\n",
       "      <td>2</td>\n",
       "      <td>2</td>\n",
       "      <td>-0.00030</td>\n",
       "      <td>-3.248825</td>\n",
       "    </tr>\n",
       "    <tr>\n",
       "      <th>2</th>\n",
       "      <td>3</td>\n",
       "      <td>3</td>\n",
       "      <td>-0.00045</td>\n",
       "      <td>-4.873237</td>\n",
       "    </tr>\n",
       "    <tr>\n",
       "      <th>3</th>\n",
       "      <td>4</td>\n",
       "      <td>4</td>\n",
       "      <td>-0.00060</td>\n",
       "      <td>-6.497650</td>\n",
       "    </tr>\n",
       "    <tr>\n",
       "      <th>4</th>\n",
       "      <td>5</td>\n",
       "      <td>5</td>\n",
       "      <td>-0.00075</td>\n",
       "      <td>-8.122062</td>\n",
       "    </tr>\n",
       "    <tr>\n",
       "      <th>5</th>\n",
       "      <td>6</td>\n",
       "      <td>6</td>\n",
       "      <td>-0.00090</td>\n",
       "      <td>-9.748216</td>\n",
       "    </tr>\n",
       "    <tr>\n",
       "      <th>6</th>\n",
       "      <td>7</td>\n",
       "      <td>7</td>\n",
       "      <td>-0.00105</td>\n",
       "      <td>-11.372919</td>\n",
       "    </tr>\n",
       "    <tr>\n",
       "      <th>7</th>\n",
       "      <td>8</td>\n",
       "      <td>8</td>\n",
       "      <td>-0.00120</td>\n",
       "      <td>-12.998906</td>\n",
       "    </tr>\n",
       "    <tr>\n",
       "      <th>8</th>\n",
       "      <td>9</td>\n",
       "      <td>9</td>\n",
       "      <td>-0.00135</td>\n",
       "      <td>-14.627036</td>\n",
       "    </tr>\n",
       "    <tr>\n",
       "      <th>0</th>\n",
       "      <td>1</td>\n",
       "      <td>1</td>\n",
       "      <td>-0.00150</td>\n",
       "      <td>-16.342253</td>\n",
       "    </tr>\n",
       "    <tr>\n",
       "      <th>0</th>\n",
       "      <td>1</td>\n",
       "      <td>1</td>\n",
       "      <td>-0.00165</td>\n",
       "      <td>-18.699060</td>\n",
       "    </tr>\n",
       "    <tr>\n",
       "      <th>1</th>\n",
       "      <td>2</td>\n",
       "      <td>2</td>\n",
       "      <td>-0.00180</td>\n",
       "      <td>-21.481800</td>\n",
       "    </tr>\n",
       "    <tr>\n",
       "      <th>0</th>\n",
       "      <td>1</td>\n",
       "      <td>1</td>\n",
       "      <td>-0.00195</td>\n",
       "      <td>-24.568067</td>\n",
       "    </tr>\n",
       "    <tr>\n",
       "      <th>1</th>\n",
       "      <td>2</td>\n",
       "      <td>2</td>\n",
       "      <td>-0.00210</td>\n",
       "      <td>-27.403555</td>\n",
       "    </tr>\n",
       "    <tr>\n",
       "      <th>2</th>\n",
       "      <td>3</td>\n",
       "      <td>3</td>\n",
       "      <td>-0.00225</td>\n",
       "      <td>-30.229422</td>\n",
       "    </tr>\n",
       "    <tr>\n",
       "      <th>3</th>\n",
       "      <td>4</td>\n",
       "      <td>4</td>\n",
       "      <td>-0.00240</td>\n",
       "      <td>-33.168326</td>\n",
       "    </tr>\n",
       "    <tr>\n",
       "      <th>4</th>\n",
       "      <td>5</td>\n",
       "      <td>5</td>\n",
       "      <td>-0.00255</td>\n",
       "      <td>-36.259891</td>\n",
       "    </tr>\n",
       "    <tr>\n",
       "      <th>5</th>\n",
       "      <td>6</td>\n",
       "      <td>6</td>\n",
       "      <td>-0.00270</td>\n",
       "      <td>-39.255732</td>\n",
       "    </tr>\n",
       "    <tr>\n",
       "      <th>6</th>\n",
       "      <td>7</td>\n",
       "      <td>7</td>\n",
       "      <td>-0.00285</td>\n",
       "      <td>-42.170330</td>\n",
       "    </tr>\n",
       "  </tbody>\n",
       "</table>\n",
       "</div>"
      ],
      "text/plain": [
       "   timestep  time  imposed_displacement  applied_force\n",
       "0         1     1              -0.00015      -1.624412\n",
       "1         2     2              -0.00030      -3.248825\n",
       "2         3     3              -0.00045      -4.873237\n",
       "3         4     4              -0.00060      -6.497650\n",
       "4         5     5              -0.00075      -8.122062\n",
       "5         6     6              -0.00090      -9.748216\n",
       "6         7     7              -0.00105     -11.372919\n",
       "7         8     8              -0.00120     -12.998906\n",
       "8         9     9              -0.00135     -14.627036\n",
       "0         1     1              -0.00150     -16.342253\n",
       "0         1     1              -0.00165     -18.699060\n",
       "1         2     2              -0.00180     -21.481800\n",
       "0         1     1              -0.00195     -24.568067\n",
       "1         2     2              -0.00210     -27.403555\n",
       "2         3     3              -0.00225     -30.229422\n",
       "3         4     4              -0.00240     -33.168326\n",
       "4         5     5              -0.00255     -36.259891\n",
       "5         6     6              -0.00270     -39.255732\n",
       "6         7     7              -0.00285     -42.170330"
      ]
     },
     "execution_count": 49,
     "metadata": {},
     "output_type": "execute_result"
    }
   ],
   "source": [
    "dtf"
   ]
  },
  {
   "cell_type": "code",
   "execution_count": 46,
   "metadata": {},
   "outputs": [
    {
     "data": {
      "text/plain": [
       "<matplotlib.axes._subplots.AxesSubplot at 0x7fb80d411da0>"
      ]
     },
     "execution_count": 46,
     "metadata": {},
     "output_type": "execute_result"
    },
    {
     "data": {
      "image/png": "[encoded data removed]",
      "text/plain": [
       "<matplotlib.figure.Figure at 0x7fb80d462be0>"
      ]
     },
     "metadata": {},
     "output_type": "display_data"
    }
   ],
   "source": [
    "dtf.plot(x='imposed_displacement', y='applied_force')"
   ]
  },
  {
   "cell_type": "code",
   "execution_count": null,
   "metadata": {
    "collapsed": true
   },
   "outputs": [],
   "source": []
  }
 ],
 "metadata": {
  "kernelspec": {
   "display_name": "Python 3",
   "language": "python",
   "name": "python3"
  },
  "language_info": {
   "codemirror_mode": {
    "name": "ipython",
    "version": 3
   },
   "file_extension": ".py",
   "mimetype": "text/x-python",
   "name": "python",
   "nbconvert_exporter": "python",
   "pygments_lexer": "ipython3",
   "version": "3.6.1"
  }
 },
 "nbformat": 4,
 "nbformat_minor": 2
}
