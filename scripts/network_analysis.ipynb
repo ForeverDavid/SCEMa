{
 "cells": [
  {
   "cell_type": "code",
   "execution_count": 26,
   "metadata": {
    "collapsed": true
   },
   "outputs": [],
   "source": [
    "import matplotlib.pyplot as plt\n",
    "import numpy as np\n",
    "import pandas as pd\n",
    "import networkx as nx\n",
    "import sys\n",
    "\n",
    "%matplotlib inline\n",
    "plt.rcParams['figure.figsize']=[20.,10.]\n",
    "plt.rcParams['font.size'] = 20"
   ]
  },
  {
   "cell_type": "code",
   "execution_count": 27,
   "metadata": {
    "collapsed": true
   },
   "outputs": [],
   "source": [
    "lammps_data_sections = set(['Atoms',\n",
    "                            'Masses',\n",
    "                            'Bonds',\n",
    "                            'Bond Coeffs',\n",
    "                            'Angles',\n",
    "                            'Angle Coeffs',\n",
    "                            'Dihedrals',\n",
    "                            'Dihedral Coeffs',\n",
    "                            'Impropers',\n",
    "                            'Improper Coeffs',\n",
    "                            'BondBond Coeffs',          # class2 angles\n",
    "                            'BondAngle Coeffs',         # class2 angles\n",
    "                            'MiddleBondTorsion Coeffs', # class2 dihedrals\n",
    "                            'EndBondTorsion Coeffs',    # class2 dihedrals\n",
    "                            'AngleTorsion Coeffs',      # class2 dihedrals\n",
    "                            'AngleAngleTorsion Coeffs', # class2 dihedrals\n",
    "                            'BondBond13 Coeffs',        # class2 dihedrals\n",
    "                            'AngleAngle Coeffs',        # class2 impropers\n",
    "                            'Angles By Type',   # new. not standard LAMMPS\n",
    "                            'Dihedrals By Type',# new. not standard LAMMPS\n",
    "                            'Angles By Type'])   # new. not standard LAMMPS\n",
    "\n",
    "def ExtractDataSection(f,\n",
    "                       section_header, \n",
    "                       comment_char = '#',\n",
    "                       include_header = False,\n",
    "                       return_line_nums = False):\n",
    "    inside_section = False\n",
    "    nonblank_encountered = False\n",
    "    i = 0\n",
    "    for line_orig in f:\n",
    "        return_this_line = False\n",
    "        line = line_orig.strip()\n",
    "        if line == section_header:\n",
    "            inside_section = True\n",
    "            nonblank_encountered = False\n",
    "            if include_header:\n",
    "                return_this_line = True\n",
    "        # A block of blank lines (which dont immediately follow\n",
    "        # the section header-name) signal the end of a section:\n",
    "        elif len(line) == 0:\n",
    "            if inside_section and include_header:\n",
    "                return_this_line = True\n",
    "            if nonblank_encountered:\n",
    "                inside_section = False\n",
    "        elif line[0] != comment_char:\n",
    "            if inside_section:\n",
    "                nonblank_encountered = True\n",
    "                return_this_line = True\n",
    "\n",
    "        if return_this_line:\n",
    "            if return_line_nums:\n",
    "                yield i\n",
    "            else:\n",
    "                yield line_orig\n",
    "            \n",
    "        i += 1\n",
    "\n",
    "\n",
    "def FindDataSection(f,\n",
    "                    section_header, \n",
    "                    comment_char = '#'):\n",
    "    i_section_start = -1\n",
    "    i_section_stop = -1\n",
    "    inside_section = False\n",
    "    nonblank_encountered = False\n",
    "    i = 0\n",
    "    for line_orig in f:\n",
    "        line = line_orig.strip()\n",
    "        if line == section_header:\n",
    "            inside_section = True\n",
    "            nonblank_encountered = False\n",
    "        # A block of blank lines (which dont immediately follow\n",
    "        # the section header-name) signal the end of a section:\n",
    "        elif len(line) == 0:\n",
    "            if nonblank_encountered:\n",
    "                inside_section = False\n",
    "                i_section_stop = i\n",
    "                break\n",
    "        elif line[0] != comment_char:\n",
    "            if inside_section:\n",
    "                if not nonblank_encountered:\n",
    "                    i_section_start = i # <- first non-blank line\n",
    "                nonblank_encountered = True\n",
    "        i += 1\n",
    "\n",
    "    if i_section_stop == -1:\n",
    "        if i_section_start != -1:\n",
    "            i_section_stop = i\n",
    "\n",
    "    return (i_section_start, i_section_stop)\n"
   ]
  },
  {
   "cell_type": "code",
   "execution_count": 31,
   "metadata": {},
   "outputs": [],
   "source": [
    "lines = open('728_1.lammps05', 'r')\n",
    "section_names=[\"Bonds\"]\n",
    "fbonds=[]\n",
    "for section_name in section_names:\n",
    "    for line in ExtractDataSection(lines, section_name):\n",
    "        fbonds.append(line)"
   ]
  },
  {
   "cell_type": "code",
   "execution_count": 32,
   "metadata": {},
   "outputs": [],
   "source": [
    "# fbonds = open('bonds.dat', 'r')  #<--contains only the Bonds section\n",
    "G=nx.Graph()"
   ]
  },
  {
   "cell_type": "code",
   "execution_count": 33,
   "metadata": {},
   "outputs": [],
   "source": [
    "## Loading the Graph\n",
    "for line in fbonds:\n",
    "#     print(line)\n",
    "    tokens=line.strip().split()\n",
    "#     print(tokens)\n",
    "    if len(tokens) == 0:\n",
    "        continue\n",
    "    # The bond-type is in column 2.\n",
    "    bondtype = int(tokens[1])\n",
    "    # The atom-IDs are in columns 3 and 4.\n",
    "    atomid1 = int(tokens[2])\n",
    "    atomid2 = int(tokens[3])\n",
    "    G.add_edge(atomid1, atomid2, type=bondtype)\n",
    "\n",
    "    # ...or just use \"G.add_edge(atomid1, atomid2)\"\n",
    "    # if you don't care bout bond type\n",
    "    # (If multiple bonds connect same pair, try using\n",
    "    #  MultiDiGraph instead of DiGraph. Hopefully not.)"
   ]
  },
  {
   "cell_type": "code",
   "execution_count": 34,
   "metadata": {},
   "outputs": [
    {
     "name": "stdout",
     "output_type": "stream",
     "text": [
      "1641\n"
     ]
    }
   ],
   "source": [
    "graph_cycles = nx.cycle_basis(G)\n",
    "df=pd.DataFrame(columns=['natoms'])\n",
    "varr = []\n",
    "for i in range(len(graph_cycles)):\n",
    "    varr.append(len(graph_cycles[i]))\n",
    "#     print(len(graph_cycles[i]))\n",
    "\n",
    "print(len(varr))\n",
    "df['natoms'] = varr"
   ]
  },
  {
   "cell_type": "code",
   "execution_count": 35,
   "metadata": {
    "scrolled": false
   },
   "outputs": [
    {
     "data": {
      "text/plain": [
       "<matplotlib.text.Text at 0x7f3990934a20>"
      ]
     },
     "execution_count": 35,
     "metadata": {},
     "output_type": "execute_result"
    },
    {
     "data": {
      "image/png": "[encoded data removed]",
      "text/plain": [
       "<matplotlib.figure.Figure at 0x7f399099d1d0>"
      ]
     },
     "metadata": {},
     "output_type": "display_data"
    }
   ],
   "source": [
    "fig, ax = plt.subplots()\n",
    "df.plot.hist(ax=ax,stacked=True, bins=200)\n",
    "ax.set_yscale('log')\n",
    "ax.set_xlabel('number of atoms per cycle')"
   ]
  }
 ],
 "metadata": {
  "kernelspec": {
   "display_name": "Python 3",
   "language": "python",
   "name": "python3"
  },
  "language_info": {
   "codemirror_mode": {
    "name": "ipython",
    "version": 3
   },
   "file_extension": ".py",
   "mimetype": "text/x-python",
   "name": "python",
   "nbconvert_exporter": "python",
   "pygments_lexer": "ipython3",
   "version": "3.6.1"
  }
 },
 "nbformat": 4,
 "nbformat_minor": 2
}
